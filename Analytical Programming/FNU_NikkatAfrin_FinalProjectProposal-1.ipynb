{
 "cells": [
  {
   "cell_type": "markdown",
   "metadata": {
    "id": "lzHOykx20x8_"
   },
   "source": [
    "# **Final Project Proposal**"
   ]
  },
  {
   "cell_type": "markdown",
   "metadata": {},
   "source": [
    "### Team Members:\n",
    "- FNU NIkkat Afrin \n",
    "- Lasya nandagiri\n",
    "- Karthikeyan Rasu"
   ]
  },
  {
   "cell_type": "markdown",
   "metadata": {
    "id": "kQ2mGM-1D_re"
   },
   "source": [
    "# Understanding the Interplay of Carbon Dioxide, Surface Temperature, and Sea Level Rise: Implications for Disaster Frequency"
   ]
  },
  {
   "cell_type": "markdown",
   "metadata": {},
   "source": [
    "### INTRODUCTION\n",
    " \n",
    " Over the past few decades, our planet faced dramatic environmental changes primarily due to the increasing levels of carbon dioxide (CO2) in our atmosphere. This rise in CO2 levels is the main reason behind the increase in global temperatures, and resulting in the rise of sea levels around the world. These shifts have contributed to a higher frequency of extreme weather events and natural disasters. Global warming is significantly affecting human health, safety, and economies worldwide, extending beyond just its impact on the environment. This project will explore scientific connections between the levels of CO2, the increase in global temperatures, their effects on the world's sea levels, and the subsequent impact on the frequency and severity of natural disasters. Through this analysis, our project aims to provide useful insights that help to develop strategies for reducing the impact of these global concerns. It underscores the necessity of tackling these interconnected environmental challenges.\n",
    " \n"
   ]
  },
  {
   "cell_type": "markdown",
   "metadata": {},
   "source": [
    "## Research Questions\n",
    "\n",
    "\n",
    "1. __Research question 1__:  What is the correlation between carbon dioxide the concentration and corresponding year's surface temperature?\n",
    "\n",
    "- __Explanation__: To direct climatic change plans, surface temperature must be in relation to carbon dioxide levels. It is supposed to determine if there exist any statistical relationships concerning climatic variations as well as carbon dioxide content over a period of time, this will provide vital information to environmental scientists, ecologists, and business persons. Business establishments and industries can utilize this knowledge to increase their resilience towards climatic changes, reduce emission rates as well as adjust their operations accordingly. Understanding all these facts will help in good decision-making towards an effective fight against climate change hence greater success.\n",
    "\n",
    "2. __Research Question 2__: What is the correlation between changes in temperature and the increase in sea levels?\n",
    "\n",
    "- __Explanation__: It focuses on glacier melting and saltwater rising, and how global warming affects the sea level. The goal is to determine the links between them, by using some models and empirical approaches, which will help us to understand how climatic change affects ocean life and contribute towards the development of mitigation strategies.\n",
    "\n",
    "3. __Research Question 3__: What is the correlation between increasing in sea levels and the frequency of natural disasters?\n",
    "\n",
    "- __Explanation__: The main objective is understanding how big storms and flooding are connected to rising in sea levels.  These findings will help engineers, policymakers, and ordinary people to build safer and stronger cities or buildings against these disasters to withstand, and also to save lives."
   ]
  },
  {
   "cell_type": "markdown",
   "metadata": {},
   "source": [
    "## Data to be Used\n",
    " \n",
    "  For this project, We will collect data from various sections within the IMF's Climate Change Data site. This will include structured data in CSV format and extract data via web API. The data will be used to investigate the interconnected impacts of climate variables. The web links for detailed sources and data -https://climatedata.imf.org/pages/climatechange-data.\n",
    "  \n",
    "***About the data:***\n",
    "  1. ***Annual Surface Temperature Change:*** \n",
    "     This data presents the mean surface temperature change during the period 1961-2021, which is obtained from a comprehensive `CSV` file https://climatedata.imf.org/datasets/4063314923d74187be9596f10d034914/explore, uses temperatures between 1951 and 1980 as a baseline for comparison.\n",
    "     \n",
    "  2. ***World Monthly Atmospheric Carbon Dioxide Concentrations:*** This data presents the concentration of carbon dioxide in the atmosphere, on a monthly and yearly basis, dating back to 1958. We collect this dataset from a `CSV` file and the web link-https://climatedata.imf.org/datasets/9c3764c0efcc4c71934ab3988f219e0e/explore\n",
    "  \n",
    "  3. ***Change in Mean Sea Levels data:*** We collect this data from the dataset in a `CSV` file while giving estimations of the rise of global sea levels, based on measurements from satellite radar altimeters. Here is the weblink for the dataset-https://climatedata.imf.org/datasets/b84a7e25159b4c65ba62d3f82c605855/explore\n",
    "  \n",
    " 4. ***Climate-related Disasters Frequency data:***:We are obtaining data on the correlation between climate change and natural disasters by accessing the Climate-related Disasters Frequency dataset through an `API` in `JSON` format. This approach is chosen over using the existing CSV format to meet the project requirements effectively. This is the link to the website of the data set of Disaster frequency data set:https://climatedata.imf.org/datasets/b13b69ee0dde43a99c811f592af4e821/explore.\n",
    " "
   ]
  },
  {
   "cell_type": "markdown",
   "metadata": {
    "id": "tIaociOqz4co"
   },
   "source": [
    "## Approach\n",
    "#### Managing Our collected data:\n",
    "- All the collected data in the form of __CSV__ and __web API__ in the __JSON__ format shall be stored in a normalized database in Postgres. This will make managing data easier.\n",
    "#### Statistical methods used to analyze and reach our research goals:\n",
    "- __Correlation Analysis__: Correlation analysis can be used to analyze the relationship between `carbon dioxide concentration` and `surface temperature`. This helps quantify the strength and direction of the linear relationship between variables.\n",
    "\n",
    "- __Time Series Analysis__: The `yearly` measurements of the `temperature change` and `sea level rise` can be analyzed by employing time series analysis techniques.Help identify trends, seasonality, and any underlying patterns in the data. This will establish an understanding of how `temperature`, `CO2 concentration`, `sea levels`, and `disaster frequency` have changed over time.\n",
    "\n",
    "- __Regression Analysis__: Regression analysis can be utilized to model the relationship between `surface temperature` and `CO2 concentration`, as well as between `temperature change` and `sea level rise`.\n",
    "\n",
    "- __Trend Analysis__: To know the trend in `surface temperature`, `CO2 concentration`, `sea level rise`, and `disaster frequency` we can use trend analysis. We will fit trend lines to the data and assess them.\n",
    "\n",
    "\n",
    "- __Spatial Analysis__: The `country-level` data of the `surface temperature` data set and the `ocean's` data from the `sea level` data set can be analyzed using spatial analysis techniques.\n",
    "\n",
    "- __Hypothesis Testing__: Hypothesis testing can be used to determine  the difference in `mean surface temperature` **before** and **after** a certain **threshold** of `CO2 concentration` and it can help us to determine the relationship between the `sea water level` and the `disaster frequencies`.\n",
    "\n",
    "#### Graphical representations used to show our research analysis:\n",
    "\n",
    "1. __Scatterplot__:\n",
    "- It Graphically displays the relationship between carbon dioxide concentration and surface temperature over time.\n",
    "- X-axis: Years \n",
    "- Y-axis: Surface Mean temperature\n",
    "- Each data point represents a measurement of CO2 concentration and corresponding surface temperature.\n",
    "- A trendline can be added to visually show the direction and strength of the relationship between CO2 concentration and surface temperature using seaborn.\n",
    "\n",
    "2. __Time Series Plots__:\n",
    "- Show the temporal trends of carbon dioxide concentration, surface temperature, sea level rise, and disaster frequency.\n",
    "- X-axis: Years \n",
    "- Y-axis: Measurement values such as CO2 concentration, temperature, sea level, and disaster frequency are included.\n",
    "- Each line represents the trend of a specific variable over time.\n",
    "\n",
    "3. __Histograms Plots__:\n",
    "- Show the distribution of CO2 concentration, surface temperature, sea level rise, and disaster frequency.\n",
    "- X-axis: Measurement values\n",
    "- Y-axis: Frequency \n",
    "- This provides insights into the variability and distribution of each variable.\n",
    "\n",
    "4. __Boxplots__:\n",
    "- We Compare the distribution of variables across different categories and time periods.\n",
    "- X-axis: Categories or time periods\n",
    "- Y-axis: Measurement values\n",
    "- Each boxplot represents the distribution of a variable within a category or time period.\n",
    "- This helps identify differences in central tendency, variability, and outliers between groups.\n",
    "\n",
    "6. __Geospatial Maps__:\n",
    "- Display in an intuitive way spatial patterns of variables such as temperature, sea level rise, and disaster frequency across different countries.\n",
    "- Color-coding or shading can represent the magnitude of the variable in each region.\n",
    "- This provides insights into regional variations and hotspots of climate-related phenomena.\n",
    "\n",
    "#### Procedural approach to meet the research goals:\n",
    "\n",
    "- We collect the data sets from [https://climatedata.imf.org/pages/climatechange-data](https://climatedata.imf.org/pages/climatechange-data).\n",
    "- We scraped the data set using Web API of JSON format from [https://climatedata.imf.org/datasets/b13b69ee0dde43a99c811f592af4e821_0/explore](https://climatedata.imf.org/datasets/b13b69ee0dde43a99c811f592af4e821_0/explore)\n",
    "- we will organize the data into our database in Postgres.\n",
    "- We shall do the data cleaning steps and make the data ready for analysis.\n",
    "- Then we start our Exploratory Data Analysis (EDA).\n",
    "- Then we Interpret the findings from the analysis in the context of the research questions and goals.\n",
    "- Finally, we draw conclusions for our research.\n",
    "\n",
    "#### Roles and responsibilities of each team member in our Project work:\n",
    "1. __Team Coordinator__: Nikkat Afrin<br>\n",
    "__Responsibilities__: Contribute to the work, and make sure to meet expected work within the deadline<br>\n",
    "\n",
    "2. __Team Coordinator__: Karthikeyan Rasu<br>\n",
    "__Responsibilities__: Contribute to the work, and make sure to meet expected work within the deadline<br>\n",
    "\n",
    "3. __Team Coordinator__: Lasya nandagiri<br>\n",
    "__Responsibilities__: Contribute to the work, and make sure to meet expected work within the deadline<br>\n"
   ]
  },
  {
   "cell_type": "markdown",
   "metadata": {},
   "source": [
    "Link to task tracker: [https://docs.google.com/spreadsheets/d/1SujKlw4K00umXlxAxZSuzJTNuULYFWnlrwruO81OG5s/edit?usp=sharing](https://docs.google.com/spreadsheets/d/1SujKlw4K00umXlxAxZSuzJTNuULYFWnlrwruO81OG5s/edit?usp=sharing)"
   ]
  }
 ],
 "metadata": {
  "colab": {
   "provenance": []
  },
  "kernelspec": {
   "display_name": "Python 3 (ipykernel)",
   "language": "python",
   "name": "python3"
  },
  "language_info": {
   "codemirror_mode": {
    "name": "ipython",
    "version": 3
   },
   "file_extension": ".py",
   "mimetype": "text/x-python",
   "name": "python",
   "nbconvert_exporter": "python",
   "pygments_lexer": "ipython3",
   "version": "3.11.5"
  }
 },
 "nbformat": 4,
 "nbformat_minor": 1
}
